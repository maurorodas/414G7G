{
  "cells": [
    {
      "cell_type": "markdown",
      "metadata": {
        "id": "OqOOMvU-TkPn"
      },
      "source": [
        "#Python en Jupyter Notebooks"
      ]
    },
    {
      "cell_type": "markdown",
      "metadata": {},
      "source": [
        "Dado que la mayor parte del material de este curso ha sido realizado en lenguaje python en el entorno Jupyter Notebook, es necesario que el estudiante se familiarice con el mismo primero."
      ]
    }
  ],
  "metadata": {
    "colab": {
      "name": "Python_Jupyter_Notebooks.ipynb",
      "provenance": [],
      "collapsed_sections":[],
      "toc_visible":true
    },
    "language_info": {
      "name": "python"
    },
    "kernelspec":{"name":"python3","display_name":"Python 3"},
    "orig_nbformat": 4
  },
  "nbformat": 4,
  "nbformat_minor": 0
}
