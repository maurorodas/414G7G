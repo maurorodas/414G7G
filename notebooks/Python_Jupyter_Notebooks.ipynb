{
  "cells": [
    {
      "cell_type": "markdown",
      "source": [
        "Esta es una prueba"
      ],
      "metadata": {
        "id": "OqOOMvU-TkPn"
      }
    }
  ],
  "metadata": {
    "language_info": {
      "name": "python"
    },
    "orig_nbformat": 4,
    "colab": {
      "name": "Python_Jupyter_Notebooks.ipynb",
      "provenance": []
    }
  },
  "nbformat": 4,
  "nbformat_minor": 0
}