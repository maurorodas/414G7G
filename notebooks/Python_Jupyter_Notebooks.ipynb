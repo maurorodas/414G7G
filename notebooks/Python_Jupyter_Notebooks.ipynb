{
  "cells": [
    {
      "cell_type": "markdown",
      "metadata": {
        "id": "OqOOMvU-TkPn"
      },
      "source": [
        "#Python en Jupyter Notebooks"
      ]
    },
    {
      "cell_type": "markdown",
      "metadata": {
        "id": "YtWR07fLaFWJ"
      },
      "source": [
        "Dado que la mayor parte del material de este curso ha sido realizado en lenguaje python en el entorno Jupyter Notebook, es necesario que el estudiante se familiarice con el mismo primero."
      ]
    },
    {
      "cell_type": "markdown",
      "source": [
        "## ¿Qué es Jupyter Notebook?"
      ],
      "metadata": {
        "id": "AAaDIts9aS3I"
      }
    },
    {
      "cell_type": "markdown",
      "source": [
        "Jupyter Notebook es ..."
      ],
      "metadata": {
        "id": "zihm3sd7aglH"
      }
    }
  ],
  "metadata": {
    "colab": {
      "name": "Python_Jupyter_Notebooks.ipynb",
      "provenance": [],
      "toc_visible": true
    },
    "language_info": {
      "name": "python"
    },
    "orig_nbformat": 4,
    "kernelspec": {
      "name": "python3",
      "display_name": "Python 3"
    }
  },
  "nbformat": 4,
  "nbformat_minor": 0
}