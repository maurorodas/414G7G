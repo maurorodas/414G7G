{
  "cells": [
    {
      "cell_type": "markdown",
      "metadata": {
        "id": "OqOOMvU-TkPn"
      },
      "source": [
        "#Introducción"
      ]
    },
    {
      "cell_type": "markdown",
      "metadata": {
        "id": "YtWR07fLaFWJ"
      },
      "source": [
        "Dado que la mayor parte del material de este curso ha sido realizado en lenguaje python en el entorno Jupyter Notebook, es necesario que el estudiante se familiarice con el mismo primero."
      ]
    },
    {
      "cell_type": "markdown",
      "source": [
        "## ¿Qué es Jupyter Notebook?"
      ],
      "metadata": {
        "id": "AAaDIts9aS3I"
      }
    },
    {
      "cell_type": "markdown",
      "source": [
        "Jupyter Notebook es ..."
      ],
      "metadata": {
        "id": "zihm3sd7aglH"
      }
    }
  ],
  "metadata": {
    "colab": {
      "name": "Introduccion.ipynb",
      "provenance": [],
      "toc_visible": true
    },
    "interpreter": {
      "hash": "63fd5069d213b44bf678585dea6b12cceca9941eaf7f819626cde1f2670de90d"
    },
    "kernelspec": {
      "display_name": "Python 3.9.7 64-bit",
      "language": "python",
      "name": "python3"
    },
    "language_info": {
      "name": "python",
      "version": "3.9.7"
    },
    "orig_nbformat": 4,
    "kernelspec": {
      "name": "python3",
      "display_name": "Python 3"
    }
  },
  "nbformat": 4,
  "nbformat_minor": 0
}
