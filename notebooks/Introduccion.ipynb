{
 "cells": [
  {
   "cell_type": "markdown",
   "metadata": {
    "id": "OqOOMvU-TkPn"
   },
   "source": [
    "# Introducción"
   ]
  },
  {
   "cell_type": "markdown",
   "metadata": {
    "id": "YtWR07fLaFWJ"
   },
   "source": [
    "<blockquote> <b>Nota:</b> Este notebook hace parte del curso de <b>Herramientas para la enseñanza de la Química</b>, el curso completo se encuentra alojado en <a href=\"https://github.com/maurorodas/414G7G\">GitHub</a> y éste y todo su contenido han sido liberados bajo la licencia <b>CC-BY-SA 4.0</b>.</blockquote>\n",
    "\n",
    "Antes de aprender a usar las diferentes herramientas de las que trata este curso, es necesario familiarizarnos con el entorno de trabajo, el curso se encuentra escrito en su mayoría en python bajo el ambiente de **Jupyter Notebook**, y se ejecutan en el **Colab** de google.\n",
    "\n",
    "Esta primera sección está dedicada al uso de estas herramientas."
   ]
  },
  {
   "cell_type": "markdown",
   "metadata": {
    "id": "AAaDIts9aS3I"
   },
   "source": [
    "## ¿Qué es Jupyter Notebook?"
   ]
  },
  {
   "cell_type": "markdown",
   "metadata": {
    "id": "zihm3sd7aglH"
   },
   "source": [
    "Jupyter Notebook es una aplicación creada por el [Proyecto Jupyter](https://jupyter.org/), el cual permite realizar computación interactiva usando varios lenguajes de programación, de hecho Jupyter proviene de la unión de los 3 lenguajes de programación Julia, Python y R. El programa se ejecuta en cualquier navegador web y puede ser exportado a diferentes formatos como HTML o PDF para generar documentos estáticos.\n",
    "\n",
    "A pesar de ello, lo más interesante de los Jupyter Notebooks es la posibilidad de crear documentos dinámicos, documentos con código en diferentes lenguajes que pueden ser modificados y ejecutados por diferentes usuarios que tengan acceso al notebook, esto ha cambiado drásticamente la forma de trabajar en equipo en entornos de programación.\n",
    "\n",
    "**¿Y para que me sirve en docencia?**, aunque los Notebooks (una posible traducción sería cuadernos de jupyter) fueron en principio pensados para grupos y proyectos de programación, su increible flexibilidad los ha tornado en una herramienta muy interesante para ser usada en nuestras clases, y particularmente se ha venido incrementando su uso en clases de ciencias y de programación de muchas universidades del mundo.\n",
    "\n",
    "En ciencias, es fundamental que el estudiante y futuro profesional en diferentes áreas, esté en la capacidad de procesar y analizar diferentes tipos de datos, y en este aspecto se han destacado en gran medida lenguajes como Python y R, es aquí donde los Jupyter Notebooks cobran gran relevancia.\n",
    "\n",
    "Adicionalmente, los Jupyter Notebooks no sólo soportan código y ejecución de los mismos, sino que también, soportan multimedia lo que los hace ideales para cursos completos de diferentes áreas.\n",
    "\n",
    "Este mismo documento es un cuaderno de Jupyter usando el lenguaje python. Los cuadernos de Jupyter, de una manera sencilla pueden describirse como una colección de celdas, existen dos tipos de celdas, una de código y otra de texto, las celdas de código soportan diferentes lenguajes como ya se mencionó, en este cuaderno en particular, si nos fijamos en el nombre **\"Introducción.ipynb\"** la extensión **ipynb** hace referencia a que estamos ejecuntando un shell interactiva de python (IPython) de ahí el **ipy** y el **nb** hace referencia a que es un notebook, fácil de recordar.\n",
    "\n",
    "Por otro lado, las celdas de texto son usadas para anotar el código o dejar información relevante sobre el proyecto, o en el caso de un curso como este, para escribir el contenido, estas celdas soportan la codificación **Markdown** un lenguaje usado para texto enriquecido, similar al HTML, pero, desde mi punto de vista, mucho más sencillo y directo, de hecho todas las celdas que ha leído hasta este instante son celdas de texto usando markdown. Si usted hace doble click sobre el texto podrá ver el código, y esto lo mágico y poderoso de los notebooks, al acceder al código de la celda, puede modificar el contenido a su antojo o necesidades."
   ]
  },
  {
   "cell_type": "markdown",
   "metadata": {
    "id": "1d8ki9H8knkB"
   },
   "source": [
    "# Para hablar sobre Colab"
   ]
  }
 ],
 "metadata": {
  "cite2c": {
   "citations": {
    "11929344/5TP72Z2K": {
     "author": [
      {
       "family": "Pajankar",
       "given": "Ashwin"
      }
     ],
     "event-place": "New York",
     "issued": {
      "date-parts": [
       [
        2021
       ]
      ]
     },
     "publisher": "Springer",
     "publisher-place": "New York",
     "title": "Practical Python Data Visualization: A Fast Track Approach To Learning Data Visualization With Python",
     "type": "book"
    }
   }
  },
  "colab": {
   "name": "Introduccion.ipynb",
   "provenance": [],
   "toc_visible": true
  },
  "interpreter": {
   "hash": "63fd5069d213b44bf678585dea6b12cceca9941eaf7f819626cde1f2670de90d"
  },
  "kernelspec": {
   "display_name": "Python 3 (ipykernel)",
   "language": "python",
   "name": "python3"
  },
  "language_info": {
   "codemirror_mode": {
    "name": "ipython",
    "version": 3
   },
   "file_extension": ".py",
   "mimetype": "text/x-python",
   "name": "python",
   "nbconvert_exporter": "python",
   "pygments_lexer": "ipython3",
   "version": "3.9.7"
  }
 },
 "nbformat": 4,
 "nbformat_minor": 1
}
