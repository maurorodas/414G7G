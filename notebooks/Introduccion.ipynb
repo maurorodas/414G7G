{
  "cells": [
    {
      "cell_type": "markdown",
      "metadata": {
        "id": "OqOOMvU-TkPn"
      },
      "source": [
        "# Introducción"
      ]
    },
    {
      "cell_type": "markdown",
      "metadata": {
        "id": "YtWR07fLaFWJ"
      },
      "source": [
        "<blockquote> <b>Nota:</b> Este notebook hace parte del curso de <b>Herramientas para la enseñanza de la Química</b>, el curso completo se encuentra alojado en <a href=\"https://github.com/maurorodas/414G7G\">GitHub</a> y éste y todo su contenido han sido liberados bajo la licencia <b>CC-BY-SA 4.0</b>.</blockquote>"
      ]
    },
    {
      "cell_type": "markdown",
      "metadata": {
        "id": "AAaDIts9aS3I"
      },
      "source": [
        "## ¿Qué es Jupyter Notebook?"
      ]
    },
    {
      "cell_type": "markdown",
      "metadata": {
        "id": "zihm3sd7aglH"
      },
      "source": [
        "Jupyter Notebook es muy bacano, esta es una prueba, probando de nuevo\n",
        "Este codigo tiene que funcionar"
      ]
    },
    {
      "cell_type": "markdown",
      "metadata": {
        "id": "1d8ki9H8knkB"
      },
      "source": [
        "# Para hablar sobre Colab"
      ]
    },
    {
      "cell_type": "markdown",
      "metadata": {},
      "source": [
        "Sera que ahora si"
      ]
    }
  ],
  "metadata": {
    "colab": {
      "name": "Introduccion.ipynb",
      "provenance": [],
      "toc_visible": true
    },
    "interpreter": {
      "hash": "63fd5069d213b44bf678585dea6b12cceca9941eaf7f819626cde1f2670de90d"
    },
    "kernelspec": {
      "display_name": "Python 3",
      "name": "python3"
    },
    "language_info": {
      "name": "python",
      "version": "3.9.7"
    },
    "orig_nbformat": 4
  },
  "nbformat": 4,
  "nbformat_minor": 0
}
