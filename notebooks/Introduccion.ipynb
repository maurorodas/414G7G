{
  "cells": [
    {
      "cell_type": "markdown",
      "metadata": {
        "id": "OqOOMvU-TkPn"
      },
      "source": [
        "#Introducción"
      ]
    },
    {
      "cell_type": "markdown",
      "metadata": {},
      "source": [
        "Dado que la mayor parte del material de este curso ha sido realizado en lenguaje python en el entorno Jupyter Notebook, es necesario que el estudiante se familiarice con el mismo primero."
      ]
    }
  ],
  "metadata": {
    "colab": {
      "name": "Python_Jupyter_Notebooks.ipynb",
      "provenance": []
    },
    "interpreter": {
      "hash": "63fd5069d213b44bf678585dea6b12cceca9941eaf7f819626cde1f2670de90d"
    },
    "kernelspec": {
      "display_name": "Python 3.9.7 64-bit",
      "language": "python",
      "name": "python3"
    },
    "language_info": {
      "name": "python",
      "version": "3.9.7"
    },
    "orig_nbformat": 4
  },
  "nbformat": 4,
  "nbformat_minor": 0
}
