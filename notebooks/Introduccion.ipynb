{
  "cells": [
    {
      "cell_type": "markdown",
      "metadata": {
        "id": "OqOOMvU-TkPn"
      },
      "source": [
        "# Introducción"
      ]
    },
    {
      "cell_type": "markdown",
      "metadata": {
        "id": "YtWR07fLaFWJ"
      },
      "source": [
        "Dado que la mayor parte del material de este curso ha sido realizado en lenguaje python en el entorno Jupyter Notebook, es necesario que el estudiante se familiarice con el mismo primero."
      ]
    },
    {
      "cell_type": "markdown",
      "metadata": {
        "id": "AAaDIts9aS3I"
      },
      "source": [
        "## ¿Qué es Jupyter Notebook?"
      ]
    },
    {
      "cell_type": "markdown",
      "metadata": {
        "id": "zihm3sd7aglH"
      },
      "source": [
        "Jupyter Notebook es muy bacano, esta es una prueba, probando de nuevo\n",
        "Este codigo tiene que funcionar"
      ]
    },
    {
      "cell_type": "markdown",
      "source": [
        "# Para hablar sobre Colab"
      ],
      "metadata": {
        "id": "1d8ki9H8knkB"
      }
    }
  ],
  "metadata": {
    "colab": {
      "name": "Introduccion.ipynb",
      "provenance": [],
      "toc_visible": true
    },
    "interpreter": {
      "hash": "63fd5069d213b44bf678585dea6b12cceca9941eaf7f819626cde1f2670de90d"
    },
    "kernelspec": {
      "display_name": "Python 3",
      "name": "python3"
    },
    "language_info": {
      "name": "python",
      "version": "3.9.7"
    },
    "orig_nbformat": 4
  },
  "nbformat": 4,
  "nbformat_minor": 0
}